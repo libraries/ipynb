{
 "cells": [
  {
   "cell_type": "code",
   "execution_count": null,
   "metadata": {},
   "outputs": [],
   "source": [
    "import math\n",
    "import numpy as np\n",
    "\n",
    "MAX_SCORE = 5\n",
    "MIN_SCORE = 0\n",
    "\n",
    "A = [3, 5, 5, 2]\n",
    "B = [5, 5, 5, 5]\n",
    "C = [2,\t3, 5, 3]\n",
    "D = [3,\t5, 5, 3]\n",
    "E = [2,\t3, 2, 2]\n",
    "F = [5, 3, 3, 5]\n",
    "G = [3,\t3, 5, 3]\n",
    "\n",
    "for i, a in enumerate(A):\n",
    "    b = B[i]\n",
    "    c = C[i]\n",
    "    d = D[i]\n",
    "    e = E[i]\n",
    "    f = F[i]\n",
    "    g = G[i]\n",
    "\n",
    "    B[i] = np.average([max(MIN_SCORE, min(MAX_SCORE, z)) for z in np.random.normal(a + (b - a) / 2, 1, 1024)])\n",
    "    C[i] = np.average([max(MIN_SCORE, min(MAX_SCORE, z)) for z in np.random.normal(a + (c - a) / 2, 1, 1024)])\n",
    "    D[i] = np.average([max(MIN_SCORE, min(MAX_SCORE, z)) for z in np.random.normal(a + (d - a) / 2, 1, 1024)])\n",
    "    E[i] = np.average([max(MIN_SCORE, min(MAX_SCORE, z)) for z in np.random.normal(a + (e - a) / 2, 1, 1024)])\n",
    "    F[i] = np.average([max(MIN_SCORE, min(MAX_SCORE, z)) for z in np.random.normal(a + (f - a) / 2, 1, 1024)])\n",
    "    G[i] = np.average([max(MIN_SCORE, min(MAX_SCORE, z)) for z in np.random.normal(a + (g - a) / 2, 1, 1024)])\n",
    "\n",
    "\n",
    "print('A', A, f'sum(A) = {sum(A)}')\n",
    "print('B', B, f'sum(B) = {sum(B)}')\n",
    "print('C', C, f'sum(C) = {sum(C)}')\n",
    "print('D', D, f'sum(D) = {sum(D)}')\n",
    "print('E', E, f'sum(E) = {sum(E)}')\n",
    "print('F', F, f'sum(F) = {sum(F)}')\n",
    "print('G', G, f'sum(G) = {sum(G)}')\n"
   ]
  }
 ],
 "metadata": {
  "kernelspec": {
   "display_name": "Python 3",
   "language": "python",
   "name": "python3"
  },
  "language_info": {
   "name": "python",
   "version": "3.10.11"
  },
  "orig_nbformat": 4
 },
 "nbformat": 4,
 "nbformat_minor": 2
}
